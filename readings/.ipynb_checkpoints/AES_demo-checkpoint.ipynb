{
 "cells": [
  {
   "cell_type": "markdown",
   "metadata": {},
   "source": [
    "### In this demo, you'll see different modes of AES block cipher and their properties."
   ]
  },
  {
   "cell_type": "code",
   "execution_count": 1,
   "metadata": {
    "ExecuteTime": {
     "end_time": "2021-02-04T02:39:27.755965Z",
     "start_time": "2021-02-04T02:39:27.694172Z"
    }
   },
   "outputs": [],
   "source": [
    "from Crypto.Cipher import AES # NOTE: you may need to install PyCrypto package\n",
    "from Crypto.Random import get_random_bytes\n",
    "from Crypto.Util import Counter\n",
    "import random"
   ]
  },
  {
   "cell_type": "code",
   "execution_count": 2,
   "metadata": {
    "ExecuteTime": {
     "end_time": "2021-02-04T02:40:07.332875Z",
     "start_time": "2021-02-04T02:40:07.320992Z"
    }
   },
   "outputs": [],
   "source": [
    "def pad(data, length=16):\n",
    "    \"\"\"pads data to nearest multiple of length (default 16 bytes = 128 bits)\"\"\"\n",
    "    return data + \"-\" * (16 - (len(data) % length))\n",
    "\n",
    "def hexify(data):\n",
    "    # Source: https://stackoverflow.com/questions/12214801/print-a-string-as-hex-bytes\n",
    "    return \":\".join(\"{:02x}\".format(c) for c in data)\n",
    "    \n",
    "\n",
    "plaintext = \"The world wonders\"\n",
    "            #----------------=\n",
    "    \n",
    "# Some modes of operation require padding to nearest 128 bits (16 bytes)\n",
    "plaintext_padded = pad(plaintext)\n",
    "\n",
    "key = get_random_bytes(16)"
   ]
  },
  {
   "cell_type": "code",
   "execution_count": 3,
   "metadata": {
    "ExecuteTime": {
     "end_time": "2021-02-04T02:40:11.926007Z",
     "start_time": "2021-02-04T02:40:11.917521Z"
    }
   },
   "outputs": [],
   "source": [
    "def blockPrint(data):\n",
    "    index = 0\n",
    "    hexdata = \":\".join(\"{:02x}\".format(c) for c in data)\n",
    "    length = len(hexdata)\n",
    "    while index < length:\n",
    "        print(hexdata[index:min(index + 2*16 + 15, length)])\n",
    "        index += 3*16\n",
    "\n",
    "def xorBlockPrint(c1, c2):\n",
    "    index = 0\n",
    "    xor = \":\".join([\"{:02x}\".format(c1[c] ^ c2[c]) for c in range(len(c1))]).replace(\"00\", \"--\")\n",
    "    length = len(xor)\n",
    "    while index < length:\n",
    "        print(xor[index:min(index + 2*16 + 15, length)])\n",
    "        index += 3*16"
   ]
  },
  {
   "cell_type": "code",
   "execution_count": 4,
   "metadata": {
    "ExecuteTime": {
     "end_time": "2021-02-04T02:40:13.498692Z",
     "start_time": "2021-02-04T02:40:13.491968Z"
    }
   },
   "outputs": [],
   "source": [
    "def encryptRandom(algorithm, plaintext1, plaintext2):\n",
    "    \"\"\"Encrypts either plaintext at random and returns the ciphertext.\n",
    "       Used when playing IND-CPA games.\"\"\"\n",
    "    to_encrypt = 1 if random.random() > 0.5 else 0\n",
    "    print(f\"Oracle encrypts plaintext {to_encrypt+1}\\n\")\n",
    "    return algorithm.encrypt((plaintext1, plaintext2)[to_encrypt])"
   ]
  },
  {
   "cell_type": "markdown",
   "metadata": {},
   "source": [
    "## IND-CPA with deterministic algorithm: AES-ECB"
   ]
  },
  {
   "cell_type": "markdown",
   "metadata": {},
   "source": [
    "### Encryption"
   ]
  },
  {
   "cell_type": "code",
   "execution_count": 5,
   "metadata": {
    "ExecuteTime": {
     "end_time": "2021-02-04T02:40:19.643700Z",
     "start_time": "2021-02-04T02:40:19.635529Z"
    }
   },
   "outputs": [
    {
     "name": "stdout",
     "output_type": "stream",
     "text": [
      "Encryption of:  The world wonders---------------\n",
      "41:c5:ef:61:65:06:cc:8c:b6:33:53:80:f4:ad:fa:c6\n",
      "1b:68:51:3f:82:7b:93:bd:c3:c4:c3:d3:5d:80:cd:18\n"
     ]
    }
   ],
   "source": [
    "AES_ECB = AES.new(key, AES.MODE_ECB)\n",
    "\n",
    "print(\"Encryption of: \", plaintext_padded)\n",
    "blockPrint(AES_ECB.encrypt(plaintext_padded))"
   ]
  },
  {
   "cell_type": "markdown",
   "metadata": {},
   "source": [
    "#### If you reencrypt the same plaintext, the ciphertext is identical."
   ]
  },
  {
   "cell_type": "code",
   "execution_count": 6,
   "metadata": {
    "ExecuteTime": {
     "end_time": "2021-02-04T02:40:26.361218Z",
     "start_time": "2021-02-04T02:40:26.356670Z"
    }
   },
   "outputs": [
    {
     "name": "stdout",
     "output_type": "stream",
     "text": [
      "Encryption of:  The world wonders---------------\n",
      "41:c5:ef:61:65:06:cc:8c:b6:33:53:80:f4:ad:fa:c6\n",
      "1b:68:51:3f:82:7b:93:bd:c3:c4:c3:d3:5d:80:cd:18\n"
     ]
    }
   ],
   "source": [
    "print(\"Encryption of: \", plaintext_padded)\n",
    "blockPrint(AES_ECB.encrypt(plaintext_padded))"
   ]
  },
  {
   "cell_type": "markdown",
   "metadata": {},
   "source": [
    "### Decryption"
   ]
  },
  {
   "cell_type": "code",
   "execution_count": 7,
   "metadata": {
    "ExecuteTime": {
     "end_time": "2021-02-04T02:40:50.389406Z",
     "start_time": "2021-02-04T02:40:50.381135Z"
    }
   },
   "outputs": [
    {
     "name": "stdout",
     "output_type": "stream",
     "text": [
      "Decryption of: \n",
      "41:c5:ef:61:65:06:cc:8c:b6:33:53:80:f4:ad:fa:c6\n",
      "1b:68:51:3f:82:7b:93:bd:c3:c4:c3:d3:5d:80:cd:18\n",
      "b'The world wonders---------------'\n"
     ]
    }
   ],
   "source": [
    "ciphertext = AES_ECB.encrypt(plaintext_padded)\n",
    "print(\"Decryption of: \")\n",
    "blockPrint(ciphertext)\n",
    "print(AES_ECB.decrypt(ciphertext))"
   ]
  },
  {
   "cell_type": "markdown",
   "metadata": {},
   "source": [
    "### For an attacker, winning the IND-CPA game against AES-ECB is easy."
   ]
  },
  {
   "cell_type": "code",
   "execution_count": 8,
   "metadata": {},
   "outputs": [
    {
     "name": "stdout",
     "output_type": "stream",
     "text": [
      "Oracle encrypts plaintext 2\n",
      "\n",
      "Ciphertext returned by the oracle:\n",
      "72:49:b8:03:2b:6e:bb:b1:ac:9c:0d:d7:96:0b:09:d4\n",
      "01:ea:95:ee:46:a6:1a:8e:d9:5a:b2:37:91:f4:6a:0a\n",
      "\n",
      "Encryption of plaintext 1:\n",
      "c4:b8:68:2b:36:b7:a8:41:d2:8d:53:82:87:16:97:e8\n",
      "a9:98:95:5c:b0:e3:15:c7:9a:cf:60:c6:eb:71:d6:90\n",
      "\n",
      "Encryption of plaintext 2:\n",
      "72:49:b8:03:2b:6e:bb:b1:ac:9c:0d:d7:96:0b:09:d4\n",
      "01:ea:95:ee:46:a6:1a:8e:d9:5a:b2:37:91:f4:6a:0a\n",
      "\n",
      "Oracle's ciphertext is encryption of plaintext 2\n"
     ]
    }
   ],
   "source": [
    "\"\"\"Wins the IND-CPA game against AES-ECB as an attacker.\"\"\"\n",
    "\n",
    "# Main game: provide two plaintexts, cipher selects one\n",
    "plaintext1 = pad(\"This is a plaintext\")\n",
    "plaintext2 = pad(\"A completely different one\")\n",
    "ciphertext = encryptRandom(AES_ECB, plaintext1, plaintext2)\n",
    "print(\"Ciphertext returned by the oracle:\")\n",
    "blockPrint(ciphertext)\n",
    "\n",
    "# Attacker can obtain additional encryptions of plaintexts.\n",
    "ciphertext1 = AES_ECB.encrypt(plaintext1)\n",
    "ciphertext2 = AES_ECB.encrypt(plaintext2)\n",
    "print(\"\\nEncryption of plaintext 1:\")\n",
    "blockPrint(ciphertext1)\n",
    "print(\"\\nEncryption of plaintext 2:\")\n",
    "blockPrint(ciphertext2)\n",
    "\n",
    "# Make a guess!\n",
    "if ciphertext == ciphertext1:\n",
    "    print(\"\\nOracle's ciphertext is encryption of plaintext 1\")\n",
    "else:\n",
    "    print(\"\\nOracle's ciphertext is encryption of plaintext 2\")"
   ]
  },
  {
   "cell_type": "markdown",
   "metadata": {
    "collapsed": true
   },
   "source": [
    "## IND-CPA with nondeterministic algorithm: AES-CTR"
   ]
  },
  {
   "cell_type": "markdown",
   "metadata": {},
   "source": [
    "### Encryption"
   ]
  },
  {
   "cell_type": "code",
   "execution_count": 9,
   "metadata": {},
   "outputs": [
    {
     "name": "stdout",
     "output_type": "stream",
     "text": [
      "Encryption of:  The world wonders\n",
      "IV used:  9f:d8:a6:48:d3:c7:1e:a3\n",
      "96:2b:66:d2:13:6b:fa:4d:9e:79:73:69:f8:72:28:08\n",
      "ef\n"
     ]
    }
   ],
   "source": [
    "print(\"Encryption of: \", plaintext) #Notice no padding is required!\n",
    "IV = get_random_bytes(8)\n",
    "print(\"IV used: \", hexify(IV))\n",
    "blockPrint(AES.new(key, AES.MODE_CTR, counter=Counter.new(64, prefix=IV)).encrypt(plaintext))"
   ]
  },
  {
   "cell_type": "markdown",
   "metadata": {},
   "source": [
    "#### If you reencrypt the same plaintext with a different IV, the ciphertext is different. This makes an encryption scheme IND-CPA since no correlation can be established between multiple encryptions of similar or same plaintext."
   ]
  },
  {
   "cell_type": "code",
   "execution_count": 10,
   "metadata": {},
   "outputs": [
    {
     "name": "stdout",
     "output_type": "stream",
     "text": [
      "Encryption of:  The world wonders\n",
      "IV used:  af:fe:4d:5a:aa:03:94:c0\n",
      "f7:de:91:9b:c7:ca:65:60:ba:f2:c0:5b:06:3f:b6:36\n",
      "9c\n"
     ]
    }
   ],
   "source": [
    "print(\"Encryption of: \", plaintext)\n",
    "IV = get_random_bytes(8)\n",
    "print(\"IV used: \", hexify(IV))\n",
    "blockPrint(AES.new(key, AES.MODE_CTR, counter=Counter.new(64, prefix=IV)).encrypt(plaintext))"
   ]
  },
  {
   "cell_type": "markdown",
   "metadata": {},
   "source": [
    "#### However, if you reencrypt the same plaintext with the same IV, the ciphertext is identical."
   ]
  },
  {
   "cell_type": "code",
   "execution_count": 11,
   "metadata": {},
   "outputs": [
    {
     "name": "stdout",
     "output_type": "stream",
     "text": [
      "Two encryptions of:  The world wonders\n",
      "IV used:  b7:37:26:41:39:9d:64:47\n",
      "First encryption:\n",
      "54:e8:b9:58:61:a5:24:51:49:26:4c:e5:1e:93:b5:c6\n",
      "a3\n",
      "\n",
      "Second encryption:\n",
      "54:e8:b9:58:61:a5:24:51:49:26:4c:e5:1e:93:b5:c6\n",
      "a3\n"
     ]
    }
   ],
   "source": [
    "print(\"Two encryptions of: \", plaintext)\n",
    "IV = get_random_bytes(8)\n",
    "print(\"IV used: \", hexify(IV))\n",
    "print(\"First encryption:\")\n",
    "blockPrint(AES.new(key, AES.MODE_CTR, counter=Counter.new(64, prefix=IV)).encrypt(plaintext))\n",
    "print(\"\\nSecond encryption:\")\n",
    "blockPrint(AES.new(key, AES.MODE_CTR, counter=Counter.new(64, prefix=IV)).encrypt(plaintext))"
   ]
  },
  {
   "cell_type": "markdown",
   "metadata": {},
   "source": [
    "### Again, wining the IND-CPA game against AES-CTR with IV reuse is easy."
   ]
  },
  {
   "cell_type": "code",
   "execution_count": 12,
   "metadata": {},
   "outputs": [
    {
     "name": "stdout",
     "output_type": "stream",
     "text": [
      "Oracle encrypts plaintext 1\n",
      "\n",
      "Ciphertext returned by the oracle:\n",
      "db:8c:38:3c:54:11:1e:4d:2b:88:f2:c3:ce:30:5f:fa\n",
      "a9:96:dc:65:bd:67:59:da:a9:12:fc\n",
      "\n",
      "Encryption of plaintext 1:\n",
      "db:8c:38:3c:54:11:1e:4d:2b:88:f2:c3:ce:30:5f:fa\n",
      "a9:96:dc:65:bd:67:59:da:a9:12:fc\n",
      "\n",
      "Encryption of plaintext 2:\n",
      "ce:c4:36:20:1b:1c:4d:1d:26:87:f4:d9:d2:30:55:ae\n",
      "e6:8c:d6:65:be:66:48:88:a9:0d:fd\n",
      "\n",
      "Oracle's ciphertext is encryption of plaintext 1\n"
     ]
    }
   ],
   "source": [
    "\"\"\"Wins the IND-CPA game against AES-CTR with IV reuse as an attacker.\"\"\"\n",
    "\n",
    "#Generate IV to reuse\n",
    "IV = get_random_bytes(8) \n",
    "\n",
    "# Main game: provide two plaintexts, cipher selects one\n",
    "plaintext1 = \"A good plaintext to encrypt\"\n",
    "plaintext2 = \"This is another one for you\"\n",
    "ciphertext = encryptRandom(AES.new(key, AES.MODE_CTR, counter=Counter.new(64, prefix=IV)), plaintext1, plaintext2)\n",
    "print(\"Ciphertext returned by the oracle:\")\n",
    "blockPrint(ciphertext)\n",
    "\n",
    "# Attacker can obtain additional encryptions of plaintexts.\n",
    "ciphertext1 = AES.new(key, AES.MODE_CTR, counter=Counter.new(64, prefix=IV)).encrypt(plaintext1)\n",
    "ciphertext2 = AES.new(key, AES.MODE_CTR, counter=Counter.new(64, prefix=IV)).encrypt(plaintext2)\n",
    "print(\"\\nEncryption of plaintext 1:\")\n",
    "blockPrint(ciphertext1)\n",
    "print(\"\\nEncryption of plaintext 2:\")\n",
    "blockPrint(ciphertext2)\n",
    "\n",
    "#Make a guess!\n",
    "if ciphertext == ciphertext1:\n",
    "    print(\"\\nOracle's ciphertext is encryption of plaintext 1\")\n",
    "else:\n",
    "    print(\"\\nOracle's ciphertext is encryption of plaintext 2\")"
   ]
  },
  {
   "cell_type": "markdown",
   "metadata": {},
   "source": [
    "# IV compromise\n",
    "If you encrypt a same plaintext with the same IV, two ciphertexts will be identical regardless of the mode of operation. If you encrypt two different plaintexts with the same IV, though, different modes of operation have differing levels of failure. In this section, you will analyze what happens when IV is reused in various AES modes of operation."
   ]
  },
  {
   "cell_type": "markdown",
   "metadata": {},
   "source": [
    "## IV reuse in synchronous stream ciphers [AES-CTR and AES-OFB]\n",
    "Synchronous stream ciphers generate a psuedorandom bit stream that is combined (usually using xor) with plaintext, emulating One Time Pad (OTP). A Synchronous stream cipher's psuedorandom bit stream is dependent only on the key and IV: Plaintext does not affect the bitstream.\n",
    "\n",
    "Since the bitstream is only dependent on the key and IV, IV reuse creates an OTP reuse scenario acoss the entire ciphertext. "
   ]
  },
  {
   "cell_type": "code",
   "execution_count": 13,
   "metadata": {},
   "outputs": [
    {
     "name": "stdout",
     "output_type": "stream",
     "text": [
      "\n",
      "Encryption of plaintext 1:\n",
      "6b:2d:6e:29:b3:ca:16:9e:db:72:0f:41:94:b4:fc:ef\n",
      "89:c3:e8:7e:e8:5c:94:01:be:d1:b3:c9:68:fb:cb:34\n",
      "3a:a3:d3:14:ed:9c:eb:e7:3c:98:e6:eb:4c:f5:29:84\n",
      "\n",
      "Encryption of plaintext 2:\n",
      "6b:2d:6e:29:b3:ca:16:9e:db:72:0f:41:94:b4:fc:ef\n",
      "89:c3:e8:7e:e8:5c:94:01:be:d1:93:c9:68:fb:cb:34\n",
      "3a:a3:d3:14:ed:9c:eb:e7:3c:98:e6:eb:4c:f5:29:84\n",
      "\n",
      "xor of two plaintexts:\n",
      "--:--:--:--:--:--:--:--:--:--:--:--:--:--:--:--\n",
      "--:--:--:--:--:--:--:--:--:--:20:--:--:--:--:--\n",
      "--:--:--:--:--:--:--:--:--:--:--:--:--:--:--:--\n",
      "\n",
      "xor of two ciphertexts:\n",
      "--:--:--:--:--:--:--:--:--:--:--:--:--:--:--:--\n",
      "--:--:--:--:--:--:--:--:--:--:20:--:--:--:--:--\n",
      "--:--:--:--:--:--:--:--:--:--:--:--:--:--:--:--\n"
     ]
    }
   ],
   "source": [
    "# Generate IV to reuse\n",
    "IV = get_random_bytes(16)\n",
    "\n",
    "# Note one byte of the plaintexts differ in the second block.\n",
    "plaintext1 = \"The plaintext is designed to occupy three blocks\"\n",
    "             #----------------================---------------- Exactly three blocks\n",
    "plaintext2 = \"The plaintext is designed To occupy three blocks\"\n",
    "\n",
    "# OFB mode of operation\n",
    "ciphertext1 = AES.new(key, AES.MODE_OFB, IV=IV).encrypt(plaintext1)\n",
    "ciphertext2 = AES.new(key, AES.MODE_OFB, IV=IV).encrypt(plaintext2)\n",
    "print(\"\\nEncryption of plaintext 1:\")\n",
    "blockPrint(ciphertext1)\n",
    "print(\"\\nEncryption of plaintext 2:\")\n",
    "blockPrint(ciphertext2)\n",
    "\n",
    "print(\"\\nxor of two plaintexts:\")\n",
    "xorBlockPrint([ord(c) for c in plaintext1], [ord(c) for c in plaintext2])\n",
    "\n",
    "print(\"\\nxor of two ciphertexts:\")\n",
    "xorBlockPrint(ciphertext1, ciphertext2)"
   ]
  },
  {
   "cell_type": "markdown",
   "metadata": {},
   "source": [
    "You can tell the two plaintexts are identical except for one byte by only looking at the ciphertexts."
   ]
  },
  {
   "cell_type": "markdown",
   "metadata": {},
   "source": [
    "## IV reuse in AES-CFB\n",
    "AES-CFB uses cipher feedback, which incorporates previous block of plaintext to the input of next block cipher. In case of IV reuse, all ciphertext blocks up to and including the block containing the first differing bit is subject to OTP reuse scenario."
   ]
  },
  {
   "cell_type": "code",
   "execution_count": 14,
   "metadata": {},
   "outputs": [
    {
     "name": "stdout",
     "output_type": "stream",
     "text": [
      "\n",
      "Encryption of plaintext 1:\n",
      "7c:59:06:5b:9c:2b:4c:9a:65:cf:fb:03:1c:ad:1c:83\n",
      "37:26:1a:c7:24:91:53:c6:62:ea:1c:4b:6f:a5:70:5e\n",
      "14:9e:43:09:c4:cd:72:2e:c1:f4:f9:5e:ee:7c:25:f2\n",
      "\n",
      "Encryption of plaintext 2:\n",
      "7c:59:06:5b:9c:2b:4c:9a:65:cf:fb:03:1c:ad:1c:83\n",
      "37:26:1a:c7:24:91:53:c6:62:ea:3c:4b:6f:a5:70:5e\n",
      "ba:bf:c2:6b:8b:19:f7:0f:48:b0:89:e5:bf:de:f3:65\n",
      "\n",
      "xor of two plaintexts:\n",
      "--:--:--:--:--:--:--:--:--:--:--:--:--:--:--:--\n",
      "--:--:--:--:--:--:--:--:--:--:20:--:--:--:--:--\n",
      "--:--:--:--:--:--:--:--:--:--:--:--:--:--:--:--\n",
      "\n",
      "xor of two ciphertexts:\n",
      "--:--:--:--:--:--:--:--:--:--:--:--:--:--:--:--\n",
      "--:--:--:--:--:--:--:--:--:--:20:--:--:--:--:--\n",
      "ae:21:81:62:4f:d4:85:21:89:44:70:bb:51:a2:d6:97\n"
     ]
    }
   ],
   "source": [
    "# Generate IV to reuse\n",
    "IV = get_random_bytes(16)\n",
    "\n",
    "# Note one byte of the plaintexts differ in the second block.\n",
    "plaintext1 = \"the plaintext is designed to occupy three blocks\"\n",
    "             #----------------================---------------- Exactly three blocks\n",
    "plaintext2 = \"the plaintext is designed To occupy three blocks\"\n",
    "\n",
    "# CFB mode of operation\n",
    "ciphertext1 = AES.new(key, AES.MODE_CFB, IV=IV, segment_size=128).encrypt(plaintext1)\n",
    "ciphertext2 = AES.new(key, AES.MODE_CFB, IV=IV, segment_size=128).encrypt(plaintext2)\n",
    "print(\"\\nEncryption of plaintext 1:\")\n",
    "blockPrint(ciphertext1)\n",
    "print(\"\\nEncryption of plaintext 2:\")\n",
    "blockPrint(ciphertext2)\n",
    "\n",
    "print(\"\\nxor of two plaintexts:\")\n",
    "xorBlockPrint([ord(c) for c in plaintext1], [ord(c) for c in plaintext2])\n",
    "\n",
    "print(\"\\nxor of two ciphertexts:\")\n",
    "xorBlockPrint(ciphertext1, ciphertext2)"
   ]
  },
  {
   "cell_type": "markdown",
   "metadata": {},
   "source": [
    "## IV reuse in AES-CBC\n",
    "AES-CBC inporporates plaintext block to the input of the block cipher. In case of IV reuse, all ciphertext blocks up to but not including the block containing the first differing bit is subject to OTP reuse scenario."
   ]
  },
  {
   "cell_type": "code",
   "execution_count": 15,
   "metadata": {},
   "outputs": [
    {
     "name": "stdout",
     "output_type": "stream",
     "text": [
      "\n",
      "Encryption of plaintext 1:\n",
      "5d:1b:83:86:c7:d6:72:75:cf:c5:b7:5c:df:63:be:d2\n",
      "a5:eb:da:e1:57:32:d1:18:3e:ad:f0:5a:5d:6b:c2:cf\n",
      "64:c3:fa:ea:18:2a:40:7c:8d:59:35:2a:33:b3:15:35\n",
      "\n",
      "Encryption of plaintext 2:\n",
      "5d:1b:83:86:c7:d6:72:75:cf:c5:b7:5c:df:63:be:d2\n",
      "d9:49:58:bb:c2:e8:55:8e:18:09:de:72:93:ec:bf:62\n",
      "82:6a:6f:65:b2:67:d1:24:8f:22:62:a3:97:a8:bd:3c\n",
      "\n",
      "xor of two plaintexts:\n",
      "--:--:--:--:--:--:--:--:--:--:--:--:--:--:--:--\n",
      "--:--:--:--:--:--:--:--:--:--:20:--:--:--:--:--\n",
      "--:--:--:--:--:--:--:--:--:--:--:--:--:--:--:--\n",
      "\n",
      "Xor of two ciphertexts:\n",
      "--:--:--:--:--:--:--:--:--:--:--:--:--:--:--:--\n",
      "7c:a2:82:5a:95:da:84:96:26:a4:2e:28:ce:87:7d:ad\n",
      "e6:a9:95:8f:aa:4d:91:58:02:7b:57:89:a4:1b:a8:09\n"
     ]
    }
   ],
   "source": [
    "# Generate IV to reuse\n",
    "IV = get_random_bytes(16)\n",
    "\n",
    "# Note one byte of the plaintexts differ in the second block.\n",
    "plaintext1 = \"The plaintext is designed to occupy three blocks\"\n",
    "             #----------------================---------------- Exactly three blocks\n",
    "plaintext2 = \"The plaintext is designed To occupy three blocks\"\n",
    "\n",
    "# CBC mode of operation\n",
    "ciphertext1 = AES.new(key, AES.MODE_CBC, IV=IV).encrypt(plaintext1)\n",
    "ciphertext2 = AES.new(key, AES.MODE_CBC, IV=IV).encrypt(plaintext2)\n",
    "print(\"\\nEncryption of plaintext 1:\")\n",
    "blockPrint(ciphertext1)\n",
    "print(\"\\nEncryption of plaintext 2:\")\n",
    "blockPrint(ciphertext2)\n",
    "\n",
    "print(\"\\nxor of two plaintexts:\")\n",
    "xorBlockPrint([ord(c) for c in plaintext1], [ord(c) for c in plaintext2])\n",
    "\n",
    "print(\"\\nXor of two ciphertexts:\")\n",
    "xorBlockPrint(ciphertext1, ciphertext2)"
   ]
  },
  {
   "cell_type": "markdown",
   "metadata": {},
   "source": [
    "## Predictable IV in AES-CBC causes it to be IND-CPA insecure.\n",
    "AES-CBC inporporates plaintext block to the input of the block cipher. This means if the IV is known in advance, the attacker can choose a plaintext that forces a specific input into the block cipher."
   ]
  },
  {
   "cell_type": "code",
   "execution_count": 16,
   "metadata": {},
   "outputs": [
    {
     "name": "stdout",
     "output_type": "stream",
     "text": [
      "Oracle encrypts plaintext 2\n",
      "\n",
      "Ciphertext returned by the oracle:\n",
      "57:f4:9a:1b:43:a1:3e:bc:71:df:a8:cd:49:70:71:47\n",
      "\n",
      "Encryption of forged ciphertext:\n",
      "78:83:35:c8:e6:35:2d:01:89:53:65:64:b7:9f:ff:d9\n",
      "\n",
      "Oracle's ciphertext is encryption of plaintext 2\n"
     ]
    }
   ],
   "source": [
    "\"\"\"Wins the IND-CPA game against AES-CBC with predictable IV as an attacker.\"\"\"\n",
    "\n",
    "# Generate three IVs known in advance\n",
    "IV1 = get_random_bytes(16)\n",
    "IV2 = get_random_bytes(16)\n",
    "\n",
    "# Note one byte of the plaintexts differ in the second block.\n",
    "# Encode with utf-8 as we will be doing some xor black magic\n",
    "plaintext1 = \"Plain Plaintext.\".encode('utf-8')\n",
    "             #---------------- Exactly one block\n",
    "plaintext2 = \"Spicy Plaintext.\".encode('utf-8')\n",
    "\n",
    "ciphertext = encryptRandom(AES.new(key, AES.MODE_CBC, IV=IV1), plaintext1, plaintext2)\n",
    "print(\"Ciphertext returned by the oracle:\")\n",
    "blockPrint(ciphertext)\n",
    "\n",
    "forged = bytes([plaintext1[i] ^ IV1[i] ^ IV2[i] for i in range(len(plaintext1))])\n",
    "# Attacker can obtain additional encryptions of plaintexts.\n",
    "ciphertext1 = AES.new(key, AES.MODE_CBC, IV=IV2).encrypt(forged)\n",
    "\n",
    "print(\"\\nEncryption of forged ciphertext:\")\n",
    "blockPrint(ciphertext1)\n",
    "\n",
    "# Make a guess!\n",
    "if ciphertext == ciphertext1:\n",
    "    print(\"\\nOracle's ciphertext is encryption of plaintext 1\")\n",
    "else:\n",
    "    print(\"\\nOracle's ciphertext is encryption of plaintext 2\")"
   ]
  },
  {
   "cell_type": "markdown",
   "metadata": {
    "collapsed": true
   },
   "source": [
    "## Conclusion: \n",
    "Nondeterministic algorithms rely on IV to provide randomness. Reusing IV or letting attacker predict IV may compromise cipher integrity in various levels depending on the mode of operation."
   ]
  },
  {
   "cell_type": "code",
   "execution_count": null,
   "metadata": {},
   "outputs": [],
   "source": []
  }
 ],
 "metadata": {
  "anaconda-cloud": {},
  "kernelspec": {
   "display_name": "Python 3",
   "language": "python",
   "name": "python3"
  },
  "language_info": {
   "codemirror_mode": {
    "name": "ipython",
    "version": 3
   },
   "file_extension": ".py",
   "mimetype": "text/x-python",
   "name": "python",
   "nbconvert_exporter": "python",
   "pygments_lexer": "ipython3",
   "version": "3.7.7"
  }
 },
 "nbformat": 4,
 "nbformat_minor": 1
}
